{
 "cells": [
  {
   "cell_type": "code",
   "execution_count": 4,
   "metadata": {},
   "outputs": [],
   "source": [
    "import numpy as np\n",
    "import pandas as pd\n",
    "import matplotlib.pyplot as plt\n",
    "from sklearn.cluster import KMeans\n",
    "import seaborn as sns\n",
    "%matplotlib inline"
   ]
  },
  {
   "cell_type": "code",
   "execution_count": 2,
   "metadata": {},
   "outputs": [],
   "source": [
    "data=pd.read_csv(\"CourseList_with_Credits_Prerequisites_and_Difficulty.csv\")"
   ]
  },
  {
   "cell_type": "code",
   "execution_count": 3,
   "metadata": {},
   "outputs": [
    {
     "data": {
      "text/html": [
       "<div>\n",
       "<style scoped>\n",
       "    .dataframe tbody tr th:only-of-type {\n",
       "        vertical-align: middle;\n",
       "    }\n",
       "\n",
       "    .dataframe tbody tr th {\n",
       "        vertical-align: top;\n",
       "    }\n",
       "\n",
       "    .dataframe thead th {\n",
       "        text-align: right;\n",
       "    }\n",
       "</style>\n",
       "<table border=\"1\" class=\"dataframe\">\n",
       "  <thead>\n",
       "    <tr style=\"text-align: right;\">\n",
       "      <th></th>\n",
       "      <th>Course Code</th>\n",
       "      <th>Credits</th>\n",
       "      <th>Difficulty</th>\n",
       "      <th>Pre-requisite</th>\n",
       "    </tr>\n",
       "  </thead>\n",
       "  <tbody>\n",
       "    <tr>\n",
       "      <th>0</th>\n",
       "      <td>MAT101</td>\n",
       "      <td>4</td>\n",
       "      <td>4</td>\n",
       "      <td>None</td>\n",
       "    </tr>\n",
       "    <tr>\n",
       "      <th>1</th>\n",
       "      <td>MAT106</td>\n",
       "      <td>4</td>\n",
       "      <td>4</td>\n",
       "      <td>None</td>\n",
       "    </tr>\n",
       "    <tr>\n",
       "      <th>2</th>\n",
       "      <td>MAT105</td>\n",
       "      <td>4</td>\n",
       "      <td>4</td>\n",
       "      <td>MAT101</td>\n",
       "    </tr>\n",
       "    <tr>\n",
       "      <th>3</th>\n",
       "      <td>MAT202</td>\n",
       "      <td>4</td>\n",
       "      <td>4</td>\n",
       "      <td>MAT101,MAT106</td>\n",
       "    </tr>\n",
       "    <tr>\n",
       "      <th>4</th>\n",
       "      <td>MAT203</td>\n",
       "      <td>3</td>\n",
       "      <td>4</td>\n",
       "      <td>MAT105</td>\n",
       "    </tr>\n",
       "    <tr>\n",
       "      <th>5</th>\n",
       "      <td>MAT207</td>\n",
       "      <td>4</td>\n",
       "      <td>4</td>\n",
       "      <td>MAT101,MAT105</td>\n",
       "    </tr>\n",
       "    <tr>\n",
       "      <th>6</th>\n",
       "      <td>CSE220</td>\n",
       "      <td>5</td>\n",
       "      <td>4</td>\n",
       "      <td>CSE101,MAT106</td>\n",
       "    </tr>\n",
       "    <tr>\n",
       "      <th>7</th>\n",
       "      <td>CSE101</td>\n",
       "      <td>3</td>\n",
       "      <td>3</td>\n",
       "      <td>None</td>\n",
       "    </tr>\n",
       "    <tr>\n",
       "      <th>8</th>\n",
       "      <td>CSE205</td>\n",
       "      <td>4</td>\n",
       "      <td>4</td>\n",
       "      <td>MAT202</td>\n",
       "    </tr>\n",
       "    <tr>\n",
       "      <th>9</th>\n",
       "      <td>CSE208</td>\n",
       "      <td>4</td>\n",
       "      <td>5</td>\n",
       "      <td>MAT106</td>\n",
       "    </tr>\n",
       "    <tr>\n",
       "      <th>10</th>\n",
       "      <td>CSE327</td>\n",
       "      <td>3</td>\n",
       "      <td>4</td>\n",
       "      <td>MAT202</td>\n",
       "    </tr>\n",
       "    <tr>\n",
       "      <th>11</th>\n",
       "      <td>CSE418</td>\n",
       "      <td>4</td>\n",
       "      <td>5</td>\n",
       "      <td>MAT202</td>\n",
       "    </tr>\n",
       "    <tr>\n",
       "      <th>12</th>\n",
       "      <td>MAT206</td>\n",
       "      <td>3</td>\n",
       "      <td>4</td>\n",
       "      <td>None</td>\n",
       "    </tr>\n",
       "    <tr>\n",
       "      <th>13</th>\n",
       "      <td>MEE437</td>\n",
       "      <td>3</td>\n",
       "      <td>4</td>\n",
       "      <td>MAT207</td>\n",
       "    </tr>\n",
       "  </tbody>\n",
       "</table>\n",
       "</div>"
      ],
      "text/plain": [
       "   Course Code  Credits  Difficulty  Pre-requisite\n",
       "0       MAT101        4           4           None\n",
       "1       MAT106        4           4           None\n",
       "2       MAT105        4           4         MAT101\n",
       "3       MAT202        4           4  MAT101,MAT106\n",
       "4       MAT203        3           4         MAT105\n",
       "5       MAT207        4           4  MAT101,MAT105\n",
       "6       CSE220        5           4  CSE101,MAT106\n",
       "7       CSE101        3           3           None\n",
       "8       CSE205        4           4         MAT202\n",
       "9       CSE208        4           5         MAT106\n",
       "10      CSE327        3           4         MAT202\n",
       "11      CSE418        4           5         MAT202\n",
       "12      MAT206        3           4           None\n",
       "13      MEE437        3           4         MAT207"
      ]
     },
     "execution_count": 3,
     "metadata": {},
     "output_type": "execute_result"
    }
   ],
   "source": [
    "data"
   ]
  },
  {
   "cell_type": "code",
   "execution_count": 6,
   "metadata": {},
   "outputs": [
    {
     "name": "stdout",
     "output_type": "stream",
     "text": [
      "<class 'pandas.core.frame.DataFrame'>\n",
      "RangeIndex: 14 entries, 0 to 13\n",
      "Data columns (total 4 columns):\n",
      "Course Code      14 non-null object\n",
      "Credits          14 non-null int64\n",
      "Difficulty       14 non-null int64\n",
      "Pre-requisite    14 non-null object\n",
      "dtypes: int64(2), object(2)\n",
      "memory usage: 528.0+ bytes\n"
     ]
    }
   ],
   "source": [
    "data.info()"
   ]
  },
  {
   "cell_type": "code",
   "execution_count": 7,
   "metadata": {},
   "outputs": [
    {
     "data": {
      "text/plain": [
       "<matplotlib.collections.PathCollection at 0x7fe8f0f88da0>"
      ]
     },
     "execution_count": 7,
     "metadata": {},
     "output_type": "execute_result"
    },
    {
     "data": {
      "image/png": "[encoded data removed]",
      "text/plain": [
       "<Figure size 432x288 with 1 Axes>"
      ]
     },
     "metadata": {},
     "output_type": "display_data"
    }
   ],
   "source": [
    "plt.scatter(data['Credits'],data['Difficulty'])"
   ]
  },
  {
   "cell_type": "code",
   "execution_count": 12,
   "metadata": {},
   "outputs": [
    {
     "name": "stdout",
     "output_type": "stream",
     "text": [
      "          Credits  Difficulty\n",
      "clusters                     \n",
      "0               3           4\n",
      "1               4           5\n",
      "2               4           4\n",
      "3               5           4\n",
      "4               3           3\n"
     ]
    }
   ],
   "source": [
    "clmns = ['Credits','Difficulty']\n",
    "kmeans=KMeans(n_clusters=5,random_state=0).fit(data[clmns])\n",
    "labels = kmeans.labels_\n",
    "data['clusters'] = labels\n",
    "clmns.extend(['clusters'])\n",
    "print(data[clmns].groupby(['clusters']).mean())"
   ]
  },
  {
   "cell_type": "code",
   "execution_count": 13,
   "metadata": {},
   "outputs": [
    {
     "data": {
      "text/plain": [
       "Text(27.9128,0.5,'Difficulty')"
      ]
     },
     "execution_count": 13,
     "metadata": {},
     "output_type": "execute_result"
    },
    {
     "data": {
      "image/png": "[encoded data removed]",
      "text/plain": [
       "<Figure size 407.375x360 with 1 Axes>"
      ]
     },
     "metadata": {},
     "output_type": "display_data"
    }
   ],
   "source": [
    "sns.lmplot('Credits', 'Difficulty', \n",
    "           data=data, \n",
    "           fit_reg=False, \n",
    "           hue=\"clusters\",  \n",
    "           scatter_kws={\"marker\": \"D\", \n",
    "                        \"s\": 100})\n",
    "plt.title('Clusters Credits vs Difficulty')\n",
    "plt.xlabel('Credits')\n",
    "plt.ylabel('Difficulty')"
   ]
  },
  {
   "cell_type": "code",
   "execution_count": 14,
   "metadata": {},
   "outputs": [
    {
     "name": "stdout",
     "output_type": "stream",
     "text": [
      "Level1 courses:  ['MAT101', 'MAT106', 'CSE101', 'MAT206']\n",
      "Level2 courses:  ['MAT105', 'MAT202', 'CSE220', 'CSE208']\n",
      "Level3 courses:  ['MAT207', 'MAT203', 'CSE205', 'CSE327', 'CSE418']\n",
      "Level4 courses:  ['MEE437']\n"
     ]
    }
   ],
   "source": [
    "#part2\n",
    "\n",
    "ar3=[]\n",
    "ar1=[]\n",
    "ar2=[]\n",
    "ar4=[]\n",
    "flag=0\n",
    "for x,y in zip(data['Pre-requisite'],data['Course Code']):\n",
    "    if(x=='None'):\n",
    "        ar1.append(y)\n",
    "print(\"Level1 courses: \",ar1)\n",
    "for x,y in zip(data['Pre-requisite'],data['Course Code']):\n",
    "    if(len(x)>6):\n",
    "        z=x.split(\",\")\n",
    "        for a in z:\n",
    "            flag=0\n",
    "            if (a not in ar1):\n",
    "                flag=1\n",
    "        if(flag==0):\n",
    "            ar2.append(y)\n",
    "        else:\n",
    "            ar3.append(y)        \n",
    "    else:\n",
    "        if(x in ar1):\n",
    "            ar2.append(y)\n",
    "print(\"Level2 courses: \",ar2)\n",
    "for x,y in zip(data['Pre-requisite'],data['Course Code']):\n",
    "    if(x in ar2):\n",
    "        ar3.append(y)\n",
    "print(\"Level3 courses: \",ar3)\n",
    "for x,y in zip(data['Pre-requisite'],data['Course Code']):\n",
    "    if(x in ar3):\n",
    "        ar4.append(y)\n",
    "print(\"Level4 courses: \",ar4)\n",
    "\n",
    "\n"
   ]
  }
 ],
 "metadata": {
  "kernelspec": {
   "display_name": "Python 3",
   "language": "python",
   "name": "python3"
  },
  "language_info": {
   "codemirror_mode": {
    "name": "ipython",
    "version": 3
   },
   "file_extension": ".py",
   "mimetype": "text/x-python",
   "name": "python",
   "nbconvert_exporter": "python",
   "pygments_lexer": "ipython3",
   "version": "3.6.6"
  }
 },
 "nbformat": 4,
 "nbformat_minor": 2
}
